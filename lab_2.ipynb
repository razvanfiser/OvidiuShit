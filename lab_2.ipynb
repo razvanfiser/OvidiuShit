{
 "cells": [
  {
   "cell_type": "code",
   "execution_count": 41,
   "id": "66d9e289",
   "metadata": {},
   "outputs": [],
   "source": [
    "import numpy as np\n",
    "import matplotlib.pyplot as plt\n",
    "import math"
   ]
  },
  {
   "cell_type": "markdown",
   "id": "a54d04f7",
   "metadata": {},
   "source": [
    "# Problem 1"
   ]
  },
  {
   "cell_type": "code",
   "execution_count": 19,
   "id": "01787539",
   "metadata": {},
   "outputs": [
    {
     "name": "stdout",
     "output_type": "stream",
     "text": [
      "6 6\n"
     ]
    },
    {
     "data": {
      "text/plain": [
       "<BarContainer object of 16 artists>"
      ]
     },
     "execution_count": 19,
     "metadata": {},
     "output_type": "execute_result"
    },
    {
     "data": {
      "image/png": "[encoded data removed]",
      "text/plain": [
       "<Figure size 432x288 with 1 Axes>"
      ]
     },
     "metadata": {
      "needs_background": "light"
     },
     "output_type": "display_data"
    }
   ],
   "source": [
    "# First checking if number of triplets that give sum 9 and 10 are equal\n",
    "sum_is_ten, sum_is_nine = 0, 0\n",
    "for i in range(1, 7):\n",
    "    for j in range(1, 7):\n",
    "        for k in range(1, 7):\n",
    "            if i + j + k == 9:\n",
    "                sum_is_nine += 1\n",
    "            elif i + j + k == 10:\n",
    "                sum_is_ten += 1\n",
    "print(i, j)\n",
    "\n",
    "# create a 3 X 100000 matrix with values uniformly distributed from 1 to 6, this will simulate throwing 3 dice 100000 times\n",
    "dice_rolls = np.random.randint(1, 7, (3, 100000))\n",
    "# sum the 3 rows of the matrix to find out the sum of each roll\n",
    "dice_sums = np.sum(dice_rolls, axis=0)\n",
    "# np.unique will return two arrays: first one is the array of unique sums that occured in dice_sums and the second one\n",
    "# is the number of times each sum occured\n",
    "counts = np.unique(dice_sums, return_counts=True)\n",
    "# plotting the results\n",
    "plt.bar(counts[0], counts[1])"
   ]
  },
  {
   "cell_type": "markdown",
   "id": "a1a4a724",
   "metadata": {},
   "source": [
    "# Problem 2"
   ]
  },
  {
   "cell_type": "code",
   "execution_count": 29,
   "id": "80df8849",
   "metadata": {},
   "outputs": [
    {
     "name": "stdout",
     "output_type": "stream",
     "text": [
      "Probability is aprox.: 0.49908\n"
     ]
    }
   ],
   "source": [
    "# function to check wether triangle with given sides is possible\n",
    "def is_triangle(a, b, c):\n",
    "    if (a + b <= c) or (a + c <= b) or (b + c <= a) :\n",
    "        return False\n",
    "    else:\n",
    "        return True\n",
    "\n",
    "n_triangles = 0\n",
    "# simulate cutting unit stick 100000 times\n",
    "for i in range(100000):\n",
    "    # get cuts from uniformly distributed values    \n",
    "    cuts = np.random.uniform(0, 1, 3)\n",
    "    # divide each value by its sum such that the final sum is equal to 1    \n",
    "    cuts = cuts / cuts.sum()\n",
    "    if is_triangle(cuts[0], cuts[1], cuts[2]):\n",
    "        n_triangles += 1\n",
    "print(\"Probability is aprox.: \" + str(n_triangles/100000))"
   ]
  },
  {
   "cell_type": "markdown",
   "id": "ca472768",
   "metadata": {},
   "source": [
    "# Problem 4"
   ]
  },
  {
   "cell_type": "code",
   "execution_count": 83,
   "id": "7c7c7753",
   "metadata": {},
   "outputs": [
    {
     "name": "stdout",
     "output_type": "stream",
     "text": [
      "Probability is aprox.:0.2505\n"
     ]
    }
   ],
   "source": [
    "def distance(p1, p2):\n",
    "    return math.sqrt((p1[0] - p2[0])**2 + (p1[1] - p2[1])**2)\n",
    "\n",
    "def create_point_on_circle():\n",
    "    x = np.random.uniform(-1, 1)\n",
    "    sign = np.random.uniform(-1, 1)\n",
    "    sign = sign / np.abs(sign)\n",
    "    y = np.sqrt(1 - x*x) * sign\n",
    "    return [x, y]\n",
    "\n",
    "acute_triangles = 0\n",
    "\n",
    "# repeat experiment 100000 times\n",
    "for _ in range(100000):\n",
    "    p1, p2, p3 = create_point_on_circle(), create_point_on_circle(), create_point_on_circle()\n",
    "    d1, d2, d3 = distance(p1, p2), distance(p1, p3), distance(p2, p3)\n",
    "    # apply cosine formula inside triangles, if cosine is greater than 0, then angle is accute    \n",
    "    cos_A = (d1**2 + d2**2 - d3**2) / (2 * d1 * d2)\n",
    "    cos_B = (d1**2 + d3**2 - d2**2) / (2 * d1 * d3)\n",
    "    cos_C = (d2**2 + d3**2 - d1**2) / (2 * d2 * d3)\n",
    "    \n",
    "    if (cos_A > 0) and (cos_B > 0) and (cos_C > 0):\n",
    "        acute_triangles += 1\n",
    "\n",
    "print(\"Probability is aprox.:\"  + str(acute_triangles/100000))"
   ]
  },
  {
   "cell_type": "markdown",
   "id": "2e78e73c",
   "metadata": {},
   "source": [
    "# Problem 5"
   ]
  },
  {
   "cell_type": "code",
   "execution_count": 88,
   "id": "08becbb7",
   "metadata": {},
   "outputs": [
    {
     "name": "stdout",
     "output_type": "stream",
     "text": [
      "Probability of both being real: 0.54305\n",
      "Probability of both being positive: 0.02081\n"
     ]
    }
   ],
   "source": [
    "both_real, both_pos  = 0, 0\n",
    "\n",
    "for _ in range(100000):\n",
    "    B = np.random.uniform(-1, 1)\n",
    "    C = np.random.uniform(-1, 1)\n",
    "    if (B*B - 4*C) >= 0:\n",
    "        both_real += 1\n",
    "        x1 = (- B + np.sqrt(B*B - 4*C)) / 2\n",
    "        x2 = (- B - np.sqrt(B*B - 4*C)) / 2\n",
    "        if x1 >= 0 and x2 >= 0:\n",
    "            both_pos += 1\n",
    "\n",
    "print(\"Probability of both being real: \" + str(both_real / 100000))\n",
    "print(\"Probability of both being positive: \" + str(both_pos / 100000))"
   ]
  },
  {
   "cell_type": "markdown",
   "id": "623267a7",
   "metadata": {},
   "source": [
    "# Problem 7"
   ]
  },
  {
   "cell_type": "code",
   "execution_count": 97,
   "id": "7a7b0d81",
   "metadata": {},
   "outputs": [
    {
     "data": {
      "text/plain": [
       "<BarContainer object of 30 artists>"
      ]
     },
     "execution_count": 97,
     "metadata": {},
     "output_type": "execute_result"
    },
    {
     "data": {
      "image/png": "[encoded data removed]",
      "text/plain": [
       "<Figure size 432x288 with 1 Axes>"
      ]
     },
     "metadata": {
      "needs_background": "light"
     },
     "output_type": "display_data"
    }
   ],
   "source": [
    "heads_count = []\n",
    "\n",
    "# repeat experiment 1000 times\n",
    "for i in range(1000):\n",
    "    # generate 100 uniformly distributed binary values (0 is heads)     \n",
    "    throws = np.random.randint(0, 2, 100)\n",
    "    a = np.unique(throws, return_counts=True)\n",
    "    heads_count.append(a[1][0])\n",
    "    \n",
    "# eliminate entries where heads turned up outside of 35, 65 interval\n",
    "heads_count_copy = []\n",
    "for i in range(len(heads_count)):\n",
    "    if heads_count[i] >= 35 and heads_count[i] <= 65:\n",
    "        heads_count_copy.append(heads_count[i])\n",
    "heads_count = heads_count_copy\n",
    "\n",
    "# make plot\n",
    "heads_count = np.array(heads_count)\n",
    "a = np.unique(heads_count, return_counts=True)\n",
    "plt.bar(a[0], a[1])\n",
    "# Answ: it does not fit a normal curve"
   ]
  }
 ],
 "metadata": {
  "kernelspec": {
   "display_name": "Python 3 (ipykernel)",
   "language": "python",
   "name": "python3"
  },
  "language_info": {
   "codemirror_mode": {
    "name": "ipython",
    "version": 3
   },
   "file_extension": ".py",
   "mimetype": "text/x-python",
   "name": "python",
   "nbconvert_exporter": "python",
   "pygments_lexer": "ipython3",
   "version": "3.8.8"
  }
 },
 "nbformat": 4,
 "nbformat_minor": 5
}
